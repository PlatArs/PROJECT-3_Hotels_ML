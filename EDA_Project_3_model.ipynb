{
 "cells": [
  {
   "attachments": {},
   "cell_type": "markdown",
   "metadata": {},
   "source": [
    "## Импорт библиотек"
   ]
  },
  {
   "cell_type": "code",
   "execution_count": 17,
   "metadata": {},
   "outputs": [],
   "source": [
    "import pandas as pd\n",
    "\n",
    "from sklearn.model_selection import train_test_split  # инструмент для разбивки\n",
    "from sklearn.ensemble import RandomForestRegressor # инструмент для создания и обучения модели  \n",
    "from sklearn import metrics # инструменты для оценки точности модели \n",
    "from sklearn.feature_selection import chi2 # хи-квадрат\n",
    "from sklearn.feature_selection import f_classif # anova"
   ]
  },
  {
   "cell_type": "code",
   "execution_count": 25,
   "metadata": {},
   "outputs": [],
   "source": [
    "hotels = pd.read_csv('hotels.csv')\n",
    "hotels = hotels.copy()"
   ]
  },
  {
   "cell_type": "code",
   "execution_count": 28,
   "metadata": {},
   "outputs": [
    {
     "data": {
      "text/html": [
       "<div>\n",
       "<style scoped>\n",
       "    .dataframe tbody tr th:only-of-type {\n",
       "        vertical-align: middle;\n",
       "    }\n",
       "\n",
       "    .dataframe tbody tr th {\n",
       "        vertical-align: top;\n",
       "    }\n",
       "\n",
       "    .dataframe thead th {\n",
       "        text-align: right;\n",
       "    }\n",
       "</style>\n",
       "<table border=\"1\" class=\"dataframe\">\n",
       "  <thead>\n",
       "    <tr style=\"text-align: right;\">\n",
       "      <th></th>\n",
       "      <th>hotel_address</th>\n",
       "      <th>additional_number_of_scoring</th>\n",
       "      <th>review_date</th>\n",
       "      <th>average_score</th>\n",
       "      <th>hotel_name</th>\n",
       "      <th>reviewer_nationality</th>\n",
       "      <th>negative_review</th>\n",
       "      <th>review_total_negative_word_counts</th>\n",
       "      <th>total_number_of_reviews</th>\n",
       "      <th>positive_review</th>\n",
       "      <th>review_total_positive_word_counts</th>\n",
       "      <th>total_number_of_reviews_reviewer_has_given</th>\n",
       "      <th>reviewer_score</th>\n",
       "      <th>tags</th>\n",
       "      <th>days_since_review</th>\n",
       "      <th>lat</th>\n",
       "      <th>lng</th>\n",
       "    </tr>\n",
       "  </thead>\n",
       "  <tbody>\n",
       "    <tr>\n",
       "      <th>0</th>\n",
       "      <td>Stratton Street Mayfair Westminster Borough Lo...</td>\n",
       "      <td>581</td>\n",
       "      <td>2/19/2016</td>\n",
       "      <td>8.4</td>\n",
       "      <td>The May Fair Hotel</td>\n",
       "      <td>United Kingdom</td>\n",
       "      <td>Leaving</td>\n",
       "      <td>3</td>\n",
       "      <td>1994</td>\n",
       "      <td>Staff were amazing</td>\n",
       "      <td>4</td>\n",
       "      <td>7</td>\n",
       "      <td>10.0</td>\n",
       "      <td>[' Leisure trip ', ' Couple ', ' Studio Suite ...</td>\n",
       "      <td>531 day</td>\n",
       "      <td>51.507894</td>\n",
       "      <td>-0.143671</td>\n",
       "    </tr>\n",
       "    <tr>\n",
       "      <th>1</th>\n",
       "      <td>130 134 Southampton Row Camden London WC1B 5AF...</td>\n",
       "      <td>299</td>\n",
       "      <td>1/12/2017</td>\n",
       "      <td>8.3</td>\n",
       "      <td>Mercure London Bloomsbury Hotel</td>\n",
       "      <td>United Kingdom</td>\n",
       "      <td>poor breakfast</td>\n",
       "      <td>3</td>\n",
       "      <td>1361</td>\n",
       "      <td>location</td>\n",
       "      <td>2</td>\n",
       "      <td>14</td>\n",
       "      <td>6.3</td>\n",
       "      <td>[' Business trip ', ' Couple ', ' Standard Dou...</td>\n",
       "      <td>203 day</td>\n",
       "      <td>51.521009</td>\n",
       "      <td>-0.123097</td>\n",
       "    </tr>\n",
       "  </tbody>\n",
       "</table>\n",
       "</div>"
      ],
      "text/plain": [
       "                                       hotel_address  \\\n",
       "0  Stratton Street Mayfair Westminster Borough Lo...   \n",
       "1  130 134 Southampton Row Camden London WC1B 5AF...   \n",
       "\n",
       "   additional_number_of_scoring review_date  average_score  \\\n",
       "0                           581   2/19/2016            8.4   \n",
       "1                           299   1/12/2017            8.3   \n",
       "\n",
       "                        hotel_name reviewer_nationality  negative_review  \\\n",
       "0               The May Fair Hotel      United Kingdom          Leaving    \n",
       "1  Mercure London Bloomsbury Hotel      United Kingdom    poor breakfast   \n",
       "\n",
       "   review_total_negative_word_counts  total_number_of_reviews  \\\n",
       "0                                  3                     1994   \n",
       "1                                  3                     1361   \n",
       "\n",
       "       positive_review  review_total_positive_word_counts  \\\n",
       "0   Staff were amazing                                  4   \n",
       "1             location                                  2   \n",
       "\n",
       "   total_number_of_reviews_reviewer_has_given  reviewer_score  \\\n",
       "0                                           7            10.0   \n",
       "1                                          14             6.3   \n",
       "\n",
       "                                                tags days_since_review  \\\n",
       "0  [' Leisure trip ', ' Couple ', ' Studio Suite ...           531 day   \n",
       "1  [' Business trip ', ' Couple ', ' Standard Dou...           203 day   \n",
       "\n",
       "         lat       lng  \n",
       "0  51.507894 -0.143671  \n",
       "1  51.521009 -0.123097  "
      ]
     },
     "metadata": {},
     "output_type": "display_data"
    },
    {
     "data": {
      "text/plain": [
       "163 Marsh Wall Docklands Tower Hamlets London E14 9SJ United Kingdom              3587\n",
       "372 Strand Westminster Borough London WC2R 0JJ United Kingdom                     3206\n",
       "Westminster Bridge Road Lambeth London SE1 7UT United Kingdom                     3095\n",
       "Scarsdale Place Kensington Kensington and Chelsea London W8 5SY United Kingdom    2688\n",
       "7 Pepys Street City of London London EC3N 4AF United Kingdom                      2379\n",
       "                                                                                  ... \n",
       "Via Palmanova 153 20132 Milan Italy                                                  7\n",
       "40 Rue Rene Boulanger 10th arr 75010 Paris France                                    7\n",
       "Via M Buonarroti 13 Fiera Milano City 20149 Milan Italy                              6\n",
       "Johann Staud Stra e 32 16 Ottakring 1160 Vienna Austria                              6\n",
       "13 Rue Fran ois Ory 92120 Paris France                                               5\n",
       "Name: hotel_address, Length: 1493, dtype: int64"
      ]
     },
     "metadata": {},
     "output_type": "display_data"
    }
   ],
   "source": [
    "display(hotels.head(3))\n",
    "display(hotels['hotel_address'].value_counts())"
   ]
  },
  {
   "attachments": {},
   "cell_type": "markdown",
   "metadata": {},
   "source": [
    "### Подготовка данных"
   ]
  },
  {
   "cell_type": "code",
   "execution_count": 19,
   "metadata": {},
   "outputs": [
    {
     "name": "stdout",
     "output_type": "stream",
     "text": [
      "<class 'pandas.core.frame.DataFrame'>\n",
      "RangeIndex: 386803 entries, 0 to 386802\n",
      "Data columns (total 9 columns):\n",
      " #   Column                                      Non-Null Count   Dtype  \n",
      "---  ------                                      --------------   -----  \n",
      " 0   additional_number_of_scoring                386803 non-null  int64  \n",
      " 1   average_score                               386803 non-null  float64\n",
      " 2   review_total_negative_word_counts           386803 non-null  int64  \n",
      " 3   total_number_of_reviews                     386803 non-null  int64  \n",
      " 4   review_total_positive_word_counts           386803 non-null  int64  \n",
      " 5   total_number_of_reviews_reviewer_has_given  386803 non-null  int64  \n",
      " 6   reviewer_score                              386803 non-null  float64\n",
      " 7   lat                                         386803 non-null  float64\n",
      " 8   lng                                         386803 non-null  float64\n",
      "dtypes: float64(4), int64(5)\n",
      "memory usage: 26.6 MB\n"
     ]
    }
   ],
   "source": [
    "# Удаление строковых признаков\n",
    "object_columns = ['hotel_address', 'hotel_name']\n",
    "hotels.drop(object_columns, axis = 1, inplace=True)\n",
    "hotels = hotels.fillna({'lat':0, 'lng':0})\n",
    "hotels.info()"
   ]
  },
  {
   "attachments": {},
   "cell_type": "markdown",
   "metadata": {},
   "source": [
    "### Подготовка данных"
   ]
  },
  {
   "cell_type": "code",
   "execution_count": 20,
   "metadata": {},
   "outputs": [],
   "source": [
    "# Разбиваем датафрейм на части для обучения и тестирования\n",
    "X = hotels.drop(['reviewer_score'], axis = 1)  \n",
    "y = hotels['reviewer_score']\n",
    "\n",
    "X_train, X_test, y_train, y_test = train_test_split(\n",
    "    X, y, test_size=0.25, \n",
    "    random_state=42)"
   ]
  },
  {
   "attachments": {},
   "cell_type": "markdown",
   "metadata": {},
   "source": [
    "### Создание и обучение модели\n",
    "Используем алгоритм  RandomForestRegressor"
   ]
  },
  {
   "cell_type": "code",
   "execution_count": 21,
   "metadata": {},
   "outputs": [],
   "source": [
    "regr = RandomForestRegressor(n_estimators=100)  # создание\n",
    "\n",
    "regr.fit(X_train, y_train)  # обучение на тестовых данных\n",
    "      \n",
    "y_pred = regr.predict(X_test)  # Предсказанные значения в тестовой выборке\n"
   ]
  },
  {
   "attachments": {},
   "cell_type": "markdown",
   "metadata": {},
   "source": [
    "### Оценка качества модели"
   ]
  },
  {
   "cell_type": "code",
   "execution_count": 22,
   "metadata": {},
   "outputs": [
    {
     "name": "stdout",
     "output_type": "stream",
     "text": [
      "MAPE: 0.1412880594751921\n"
     ]
    }
   ],
   "source": [
    "# Используем метрику MAPE  \n",
    "print('MAPE:', metrics.mean_absolute_percentage_error(y_test, y_pred))"
   ]
  }
 ],
 "metadata": {
  "kernelspec": {
   "display_name": "Python 3",
   "language": "python",
   "name": "python3"
  },
  "language_info": {
   "codemirror_mode": {
    "name": "ipython",
    "version": 3
   },
   "file_extension": ".py",
   "mimetype": "text/x-python",
   "name": "python",
   "nbconvert_exporter": "python",
   "pygments_lexer": "ipython3",
   "version": "3.11.1"
  }
 },
 "nbformat": 4,
 "nbformat_minor": 2
}
